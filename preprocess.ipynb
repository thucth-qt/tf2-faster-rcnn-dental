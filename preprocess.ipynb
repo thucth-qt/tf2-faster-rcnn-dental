{
 "cells": [
  {
   "cell_type": "code",
   "execution_count": 2,
   "metadata": {},
   "outputs": [],
   "source": [
    "data_path = \"/content/tf2-faster-rcnn/data/dental\""
   ]
  },
  {
   "cell_type": "code",
   "execution_count": null,
   "metadata": {},
   "outputs": [],
   "source": [
    "!rm /content/tf2-faster-rcnn/data/cache/*\n",
    "from glob import glob \n",
    "import os\n",
    "import random\n",
    "\n",
    "NUM_VAL=150 #samples\n",
    "\n",
    "img_paths=[]\n",
    "for ext in [\"*.jpg\", \"*.JPG\", \"*.jpeg\", \"*.JPEG\", \"*.png\", \"*.PNG\"]:\n",
    "    img_paths += glob(os.path.join(data_path,\"images\", ext))\n",
    "\n",
    "random.shuffle(img_paths)\n",
    "with open(os.path.join(data_path, \"train.txt\"), \"w\") as f:\n",
    "    [f.write(path+\"\\n\") for path in img_paths[:-NUM_VAL]]\n",
    "\n",
    "with open(os.path.join(data_path, \"val.txt\"), \"w\") as f:\n",
    "    [f.write(path+\"\\n\") for path in  img_paths[-NUM_VAL:]]"
   ]
  }
 ],
 "metadata": {
  "interpreter": {
   "hash": "31f2aee4e71d21fbe5cf8b01ff0e069b9275f58929596ceb00d14d90e3e16cd6"
  },
  "kernelspec": {
   "display_name": "Python 3.7.13 64-bit",
   "language": "python",
   "name": "python3"
  },
  "language_info": {
   "codemirror_mode": {
    "name": "ipython",
    "version": 3
   },
   "file_extension": ".py",
   "mimetype": "text/x-python",
   "name": "python",
   "nbconvert_exporter": "python",
   "pygments_lexer": "ipython3",
   "version": "3.7.13"
  },
  "orig_nbformat": 4
 },
 "nbformat": 4,
 "nbformat_minor": 2
}
